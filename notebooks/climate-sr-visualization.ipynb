{
 "cells": [
  {
   "cell_type": "code",
   "execution_count": null,
   "metadata": {
    "collapsed": true
   },
   "outputs": [],
   "source": [
    "import os\n",
    "\n",
    "import matplotlib\n",
    "import matplotlib.pyplot as plt\n",
    "import numpy as np\n",
    "import rasterio as rio\n",
    "from PIL import Image\n",
    "from tqdm import tqdm\n",
    "\n",
    "%matplotlib inline"
   ]
  },
  {
   "cell_type": "code",
   "execution_count": null,
   "outputs": [],
   "source": [
    "root_dir = \"/media/xultaeculcis/2TB/datasets/cruts/\"\n",
    "original_cruts_file_pattern = os.path.join(\n",
    "    root_dir, \"pre-processed\", \"full-res\", \"{0}/cruts-{0}-2018-06-16.tif\"\n",
    ")\n",
    "original_europe_extent_cruts_file_pattern = os.path.join(\n",
    "    root_dir, \"pre-processed\", \"europe-extent\", \"{0}/cruts-{0}-2018-06-16.tif\"\n",
    ")\n",
    "inference_cruts_file_pattern = os.path.join(\n",
    "    root_dir, \"inference\", \"{0}/cruts-{0}-2018-06-16.tif\"\n",
    ")\n",
    "inference_europe_extent_cruts_file_pattern = os.path.join(\n",
    "    root_dir, \"inference-europe-extent\", \"{0}/cruts-{0}-2018-06-16.tif\"\n",
    ")\n",
    "\n",
    "patterns = [\n",
    "    original_cruts_file_pattern,\n",
    "    original_europe_extent_cruts_file_pattern,\n",
    "    inference_cruts_file_pattern,\n",
    "    inference_europe_extent_cruts_file_pattern,\n",
    "]\n",
    "out_paths = [\n",
    "    \"lr_original\",\n",
    "    \"lr_original_europe_extent\",\n",
    "    \"sr\",\n",
    "    \"sr_europe_extent\",\n",
    "]\n",
    "\n",
    "vflips = [\n",
    "    True,\n",
    "    True,\n",
    "    False,\n",
    "    False,\n",
    "]\n",
    "\n",
    "fig_sizes = [\n",
    "    (40, 20),\n",
    "    (10, 10),\n",
    "    (40, 20),\n",
    "    (10, 10),\n",
    "]\n",
    "\n",
    "\n",
    "def tifs_to_png(pattern, out_path, figsize, flip_ud=False):\n",
    "    for var in [\"tmn\", \"tmp\", \"tmx\", \"pre\"]:\n",
    "        img_path = pattern.format(var)\n",
    "        fname = os.path.basename(img_path).replace(\"tif\", \"png\")\n",
    "\n",
    "        img = np.array(Image.open(img_path))\n",
    "        if flip_ud:\n",
    "            img = np.flipud(img)\n",
    "\n",
    "        cmap = matplotlib.cm.jet.copy()\n",
    "        cmap.set_bad(\"white\", 1.0)\n",
    "        plt.figure(figsize=figsize)\n",
    "        plt.imshow(img, cmap=cmap, aspect=\"auto\")\n",
    "        plt.axis(\"off\")\n",
    "\n",
    "        out_dir = os.path.join(\"../app/assets/climate-sr/results\", out_path)\n",
    "        os.makedirs(out_dir, exist_ok=True)\n",
    "\n",
    "        plt.savefig(os.path.join(out_dir, fname), bbox_inches=\"tight\")\n",
    "        plt.show()\n",
    "\n",
    "\n",
    "for cuts_pattern, png_out_path, fig_size, vflip in tqdm(\n",
    "    zip(patterns, out_paths, fig_sizes, vflips), total=len(patterns)\n",
    "):\n",
    "    tifs_to_png(cuts_pattern, png_out_path, fig_size, vflip)"
   ],
   "metadata": {
    "collapsed": false,
    "pycharm": {
     "name": "#%%\n"
    }
   }
  },
  {
   "cell_type": "code",
   "execution_count": null,
   "outputs": [],
   "source": [],
   "metadata": {
    "collapsed": false,
    "pycharm": {
     "name": "#%%\n"
    }
   }
  }
 ],
 "metadata": {
  "kernelspec": {
   "display_name": "Python 3",
   "language": "python",
   "name": "python3"
  },
  "language_info": {
   "codemirror_mode": {
    "name": "ipython",
    "version": 2
   },
   "file_extension": ".py",
   "mimetype": "text/x-python",
   "name": "python",
   "nbconvert_exporter": "python",
   "pygments_lexer": "ipython2",
   "version": "2.7.6"
  }
 },
 "nbformat": 4,
 "nbformat_minor": 0
}
