{
 "cells": [
  {
   "cell_type": "code",
   "execution_count": null,
   "metadata": {
    "collapsed": true
   },
   "outputs": [],
   "source": [
    "import os\n",
    "from functools import reduce\n",
    "from glob import glob\n",
    "\n",
    "import pandas as pd"
   ]
  },
  {
   "cell_type": "code",
   "execution_count": null,
   "outputs": [],
   "source": [
    "root_dir = \"/home/xultaeculcis/Downloads/logs\"\n",
    "csvs = sorted(glob(os.path.join(root_dir, \"*.csv\")))\n",
    "\n",
    "frames = []\n",
    "for fp in csvs:\n",
    "    fname = os.path.basename(fp).replace(\".csv\", \"\")\n",
    "    metric = fname.split(\"tag\")[-1].strip(\"-\")\n",
    "    var = fname.split(\"-\")[5]\n",
    "    metric = metric.replace(\"val_\", \"\").replace(\"train_\", \"\")\n",
    "\n",
    "    if var == \"temp\":\n",
    "        continue\n",
    "\n",
    "    df = pd.read_csv(fp)\n",
    "    df[f\"{var}/{metric}\"] = df[\"Value\"]\n",
    "    df = df.drop([\"Value\", \"Wall time\"], axis=1)\n",
    "    df.columns = [c.lower() for c in df.columns]\n",
    "    frames.append(df)\n",
    "\n",
    "frame = reduce(\n",
    "    lambda left, right: pd.merge(left, right, how=\"left\", on=[\"step\"]), frames\n",
    ")\n",
    "frame.to_csv(\"../app/assets/climate-sr/metrics.csv\", index=False)"
   ],
   "metadata": {
    "collapsed": false,
    "pycharm": {
     "name": "#%%\n"
    }
   }
  },
  {
   "cell_type": "code",
   "execution_count": null,
   "outputs": [],
   "source": [
    "root_dir = \"/home/xultaeculcis/Downloads/logs\"\n",
    "csvs = sorted(glob(os.path.join(root_dir, \"*.csv\")))\n",
    "\n",
    "frames = []\n",
    "for fp in csvs:\n",
    "    fname = os.path.basename(fp).replace(\".csv\", \"\")\n",
    "    metric = fname.split(\"tag\")[-1].strip(\"-\")\n",
    "    var = fname.split(\"-\")[5]\n",
    "    metric = metric.replace(\"val_\", \"\").replace(\"train_\", \"\")\n",
    "\n",
    "    if var in [\"tmin\", \"tmax\", \"prec\"]:\n",
    "        continue\n",
    "\n",
    "    df = pd.read_csv(fp)\n",
    "    df[f\"{var}/{metric}\"] = df[\"Value\"]\n",
    "    df = df.drop([\"Value\", \"Wall time\"], axis=1)\n",
    "    df.columns = [c.lower() for c in df.columns]\n",
    "    frames.append(df)\n",
    "\n",
    "frame = reduce(\n",
    "    lambda left, right: pd.merge(left, right, how=\"left\", on=[\"step\"]), frames\n",
    ")\n",
    "frame.to_csv(\"../app/assets/climate-sr/metrics-temp.csv\", index=False)"
   ],
   "metadata": {
    "collapsed": false,
    "pycharm": {
     "name": "#%%\n"
    }
   }
  },
  {
   "cell_type": "code",
   "execution_count": null,
   "outputs": [],
   "source": [
    "df1 = pd.read_parquet(\"../app/assets/climate-sr/metrics-temp.parquet\")\n",
    "df2 = pd.read_parquet(\"../app/assets/climate-sr/metrics.parquet\")\n",
    "\n",
    "pd.merge(df1, df2, on=\"step\", how=\"outer\").sort_values(by=\"step\").interpolate().fillna(\n",
    "    method=\"bfill\"\n",
    ").to_csv(\"../app/assets/climate-sr/metrics.csv\", index=False)"
   ],
   "metadata": {
    "collapsed": false,
    "pycharm": {
     "name": "#%%\n"
    }
   }
  },
  {
   "cell_type": "code",
   "execution_count": null,
   "outputs": [],
   "source": [],
   "metadata": {
    "collapsed": false,
    "pycharm": {
     "name": "#%%\n"
    }
   }
  }
 ],
 "metadata": {
  "kernelspec": {
   "display_name": "Python 3",
   "language": "python",
   "name": "python3"
  },
  "language_info": {
   "codemirror_mode": {
    "name": "ipython",
    "version": 2
   },
   "file_extension": ".py",
   "mimetype": "text/x-python",
   "name": "python",
   "nbconvert_exporter": "python",
   "pygments_lexer": "ipython2",
   "version": "2.7.6"
  }
 },
 "nbformat": 4,
 "nbformat_minor": 0
}
