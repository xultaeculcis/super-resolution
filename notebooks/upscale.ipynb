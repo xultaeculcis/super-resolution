{
 "cells": [
  {
   "cell_type": "code",
   "execution_count": null,
   "outputs": [],
   "source": [
    "import os\n",
    "from glob import glob\n",
    "\n",
    "import matplotlib.pyplot as plt\n",
    "from PIL import Image\n",
    "from tqdm import tqdm\n",
    "\n",
    "\n",
    "def run():\n",
    "    src_image_path = \"../app/assets/image-enhancement/original\"\n",
    "    output_path_lr = \"../app/assets/image-enhancement/lr\"\n",
    "    output_path_hr = \"../app/assets/image-enhancement/hr\"\n",
    "    output_path_upscaled = \"../app/assets/image-enhancement/upscaled\"\n",
    "    src_images = sorted(glob(os.path.join(src_image_path, \"*.png\")))\n",
    "    crop_h, crop_w = (128, 128)\n",
    "    scaling_factor = 4\n",
    "    filter_names = [\n",
    "        \"NEAREST\",\n",
    "        \"BILINEAR\",\n",
    "        \"BICUBIC\",\n",
    "        \"HAMMING\",\n",
    "        \"BOX\",\n",
    "        \"LANCZOS\",\n",
    "    ]\n",
    "    filters = [\n",
    "        Image.NEAREST,\n",
    "        Image.BILINEAR,\n",
    "        Image.BICUBIC,\n",
    "        Image.HAMMING,\n",
    "        Image.BOX,\n",
    "        Image.LANCZOS,\n",
    "    ]\n",
    "    cols = [\"Original\", \"HR (128x128)\", \"LR (32x32)\"] + filter_names\n",
    "\n",
    "    fig, axes = plt.subplots(\n",
    "        nrows=len(src_images),\n",
    "        ncols=len(filters) + 3,\n",
    "        figsize=(3 * len(filters), 2 * len(src_images)),\n",
    "        constrained_layout=True,\n",
    "    )\n",
    "\n",
    "    for ax, col in zip(axes[0], cols):\n",
    "        ax.set_title(col)\n",
    "\n",
    "    for i, src_image_path in tqdm(enumerate(src_images)):\n",
    "        basename = os.path.basename(src_image_path)\n",
    "        hr = Image.open(src_image_path)\n",
    "\n",
    "        w, h = hr.size\n",
    "\n",
    "        left = (w - crop_w) / 2\n",
    "        top = (h - crop_h) / 2\n",
    "        right = (w + crop_w) / 2\n",
    "        bottom = (h + crop_h) / 2\n",
    "\n",
    "        crop = hr.crop((left, top, right, bottom))\n",
    "        crop.save(os.path.join(output_path_hr, f\"HR-{basename}\"))\n",
    "\n",
    "        lr = crop.resize(\n",
    "            (crop_w // scaling_factor, crop_h // scaling_factor), Image.BICUBIC\n",
    "        )\n",
    "        lr.save(os.path.join(output_path_lr, f\"LR-{basename}\"))\n",
    "\n",
    "        axes[i][0].imshow(hr)\n",
    "        axes[i][1].imshow(crop)\n",
    "        axes[i][2].imshow(lr)\n",
    "\n",
    "        j = 3\n",
    "\n",
    "        for filter, filter_name in zip(filters, filter_names):\n",
    "            upscaled = lr.resize((crop_h, crop_w), filter)\n",
    "            upscaled.save(\n",
    "                os.path.join(output_path_upscaled, f\"{filter_name}-{basename}\")\n",
    "            )\n",
    "\n",
    "            axes[i][j].imshow(upscaled)\n",
    "\n",
    "            j = j + 1\n",
    "\n",
    "    fig.suptitle(\n",
    "        f\"Comparison of different upscaling filters from PILLOW library (4x upscale factor)\"\n",
    "    )\n",
    "    plt.savefig(os.path.join(output_path_upscaled, \"comparison_fig.png\"))\n",
    "    plt.show()"
   ],
   "metadata": {
    "collapsed": false,
    "pycharm": {
     "name": "#%%\n"
    }
   }
  },
  {
   "cell_type": "code",
   "execution_count": null,
   "outputs": [],
   "source": [
    "run()"
   ],
   "metadata": {
    "collapsed": false,
    "pycharm": {
     "name": "#%%\n"
    }
   }
  },
  {
   "cell_type": "code",
   "execution_count": null,
   "outputs": [],
   "source": [],
   "metadata": {
    "collapsed": false,
    "pycharm": {
     "name": "#%%\n"
    }
   }
  }
 ],
 "metadata": {
  "kernelspec": {
   "name": "python3",
   "language": "python",
   "display_name": "Python 3"
  }
 },
 "nbformat": 4,
 "nbformat_minor": 5
}
